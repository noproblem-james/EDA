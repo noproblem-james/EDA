{
 "cells": [
  {
   "cell_type": "code",
   "execution_count": 1,
   "metadata": {
    "collapsed": true
   },
   "outputs": [],
   "source": [
    "import pandas as pd"
   ]
  },
  {
   "cell_type": "code",
   "execution_count": 2,
   "metadata": {
    "collapsed": true
   },
   "outputs": [],
   "source": [
    "df = pd.read_csv('311_Customer_Service_Requests.csv')"
   ]
  },
  {
   "cell_type": "code",
   "execution_count": 3,
   "metadata": {
    "collapsed": false
   },
   "outputs": [
    {
     "data": {
      "text/plain": [
       "(1656221, 16)"
      ]
     },
     "execution_count": 3,
     "metadata": {},
     "output_type": "execute_result"
    }
   ],
   "source": [
    "df.shape"
   ]
  },
  {
   "cell_type": "code",
   "execution_count": 4,
   "metadata": {
    "collapsed": false
   },
   "outputs": [
    {
     "name": "stdout",
     "output_type": "stream",
     "text": [
      "<class 'pandas.core.frame.DataFrame'>\n",
      "RangeIndex: 1656221 entries, 0 to 1656220\n",
      "Data columns (total 16 columns):\n",
      "SRRecordID          1656221 non-null int64\n",
      "ServiceRequesNum    1656221 non-null object\n",
      "SRType              1646080 non-null object\n",
      "Agency              1656132 non-null object\n",
      "Neighborhood        1656221 non-null object\n",
      "StreetAddress       1656221 non-null object\n",
      "ZipCode             1629883 non-null object\n",
      "MethodReceived      1656221 non-null object\n",
      "SRStatus            1656221 non-null object\n",
      "CreatedDate         1656221 non-null object\n",
      "StatusDate          1656221 non-null object\n",
      "DueDate             1628327 non-null object\n",
      "LastActivity        1346621 non-null object\n",
      "Outcome             1386293 non-null object\n",
      "LastActivityDate    1427843 non-null object\n",
      "GeoLocation         1650726 non-null object\n",
      "dtypes: int64(1), object(15)\n",
      "memory usage: 107.4+ MB\n"
     ]
    }
   ],
   "source": [
    "df.info()"
   ]
  },
  {
   "cell_type": "code",
   "execution_count": 5,
   "metadata": {
    "collapsed": true
   },
   "outputs": [],
   "source": [
    "df_original = df.copy()"
   ]
  },
  {
   "cell_type": "code",
   "execution_count": 6,
   "metadata": {
    "collapsed": false
   },
   "outputs": [
    {
     "name": "stdout",
     "output_type": "stream",
     "text": [
      "<class 'pandas.core.frame.DataFrame'>\n",
      "RangeIndex: 1656221 entries, 0 to 1656220\n",
      "Data columns (total 16 columns):\n",
      "SRRecordID          1656221 non-null int64\n",
      "ServiceRequesNum    1656221 non-null object\n",
      "SRType              1646080 non-null object\n",
      "Agency              1656132 non-null object\n",
      "Neighborhood        1656221 non-null object\n",
      "StreetAddress       1656221 non-null object\n",
      "ZipCode             1629883 non-null object\n",
      "MethodReceived      1656221 non-null object\n",
      "SRStatus            1656221 non-null object\n",
      "CreatedDate         1656221 non-null object\n",
      "StatusDate          1656221 non-null object\n",
      "DueDate             1628327 non-null object\n",
      "LastActivity        1346621 non-null object\n",
      "Outcome             1386293 non-null object\n",
      "LastActivityDate    1427843 non-null object\n",
      "GeoLocation         1650726 non-null object\n",
      "dtypes: int64(1), object(15)\n",
      "memory usage: 107.4+ MB\n"
     ]
    }
   ],
   "source": [
    "df_original.info()"
   ]
  },
  {
   "cell_type": "code",
   "execution_count": 7,
   "metadata": {
    "collapsed": false
   },
   "outputs": [
    {
     "data": {
      "text/plain": [
       "122154768"
      ]
     },
     "execution_count": 7,
     "metadata": {},
     "output_type": "execute_result"
    }
   ],
   "source": [
    "id(df)"
   ]
  },
  {
   "cell_type": "code",
   "execution_count": 8,
   "metadata": {
    "collapsed": false
   },
   "outputs": [
    {
     "data": {
      "text/plain": [
       "757151152"
      ]
     },
     "execution_count": 8,
     "metadata": {},
     "output_type": "execute_result"
    }
   ],
   "source": [
    "id(df_original)"
   ]
  },
  {
   "cell_type": "code",
   "execution_count": 9,
   "metadata": {
    "collapsed": false,
    "scrolled": true
   },
   "outputs": [
    {
     "data": {
      "text/html": [
       "<div>\n",
       "<table border=\"1\" class=\"dataframe\">\n",
       "  <thead>\n",
       "    <tr style=\"text-align: right;\">\n",
       "      <th></th>\n",
       "      <th>SRRecordID</th>\n",
       "      <th>ServiceRequesNum</th>\n",
       "      <th>SRType</th>\n",
       "      <th>Agency</th>\n",
       "      <th>Neighborhood</th>\n",
       "      <th>StreetAddress</th>\n",
       "      <th>ZipCode</th>\n",
       "      <th>MethodReceived</th>\n",
       "      <th>SRStatus</th>\n",
       "      <th>CreatedDate</th>\n",
       "      <th>StatusDate</th>\n",
       "      <th>DueDate</th>\n",
       "      <th>LastActivity</th>\n",
       "      <th>Outcome</th>\n",
       "      <th>LastActivityDate</th>\n",
       "      <th>GeoLocation</th>\n",
       "    </tr>\n",
       "  </thead>\n",
       "  <tbody>\n",
       "    <tr>\n",
       "      <th>0</th>\n",
       "      <td>1094344940</td>\n",
       "      <td>15-00072082</td>\n",
       "      <td>WW Water Leak (Exterior)</td>\n",
       "      <td>Bureau of Water and Waste Water</td>\n",
       "      <td>CANTON</td>\n",
       "      <td>1013 S CLINTON ST</td>\n",
       "      <td>21224</td>\n",
       "      <td>Interface</td>\n",
       "      <td>CLOSED</td>\n",
       "      <td>02/01/2015 08:12:00 AM +0000</td>\n",
       "      <td>02/01/2015 06:23:00 PM +0000</td>\n",
       "      <td>02/03/2015 08:12:00 AM +0000</td>\n",
       "      <td>Cityworks SR Comments</td>\n",
       "      <td>UPDATED</td>\n",
       "      <td>NaN</td>\n",
       "      <td>NaN</td>\n",
       "    </tr>\n",
       "    <tr>\n",
       "      <th>1</th>\n",
       "      <td>1094344982</td>\n",
       "      <td>15-00072083</td>\n",
       "      <td>BCLB-Liquor License Complaint</td>\n",
       "      <td>Liquor License Board</td>\n",
       "      <td>GREEKTOWN</td>\n",
       "      <td>500 S LEHIGH ST</td>\n",
       "      <td>21224</td>\n",
       "      <td>Interface</td>\n",
       "      <td>CLOSED</td>\n",
       "      <td>02/01/2015 08:48:00 AM +0000</td>\n",
       "      <td>02/18/2015 09:12:00 PM +0000</td>\n",
       "      <td>03/21/2015 07:48:00 AM +0000</td>\n",
       "      <td>Dispatch Investigator</td>\n",
       "      <td>Closed</td>\n",
       "      <td>NaN</td>\n",
       "      <td>NaN</td>\n",
       "    </tr>\n",
       "    <tr>\n",
       "      <th>2</th>\n",
       "      <td>1094345013</td>\n",
       "      <td>15-00072084</td>\n",
       "      <td>WW Hydrant Open</td>\n",
       "      <td>Bureau of Water and Waste Water</td>\n",
       "      <td>MILLHILL</td>\n",
       "      <td>2600  WILKENS AVE</td>\n",
       "      <td>21223</td>\n",
       "      <td>Phone</td>\n",
       "      <td>HOLDLOCK</td>\n",
       "      <td>02/01/2015 09:13:00 AM +0000</td>\n",
       "      <td>02/01/2015 11:07:00 AM +0000</td>\n",
       "      <td>02/02/2015 09:13:00 AM +0000</td>\n",
       "      <td>Cityworks SR Comments</td>\n",
       "      <td>UPDATED</td>\n",
       "      <td>NaN</td>\n",
       "      <td>NaN</td>\n",
       "    </tr>\n",
       "    <tr>\n",
       "      <th>3</th>\n",
       "      <td>1094345094</td>\n",
       "      <td>15-00072085</td>\n",
       "      <td>TRM-Snow/Icy Conditions</td>\n",
       "      <td>Department of Transportation</td>\n",
       "      <td>MEDFIELD</td>\n",
       "      <td>4496  83  N</td>\n",
       "      <td>21209</td>\n",
       "      <td>Phone</td>\n",
       "      <td>CLOSED</td>\n",
       "      <td>02/01/2015 09:24:00 AM +0000</td>\n",
       "      <td>02/04/2015 10:41:00 PM +0000</td>\n",
       "      <td>02/02/2015 09:24:00 AM +0000</td>\n",
       "      <td>Cityworks SR Comments</td>\n",
       "      <td>UPDATED</td>\n",
       "      <td>NaN</td>\n",
       "      <td>NaN</td>\n",
       "    </tr>\n",
       "    <tr>\n",
       "      <th>4</th>\n",
       "      <td>1094345124</td>\n",
       "      <td>15-00072086</td>\n",
       "      <td>TRM-Snow/Icy Conditions</td>\n",
       "      <td>Department of Transportation</td>\n",
       "      <td>EAST BALTIMORE MIDWAY</td>\n",
       "      <td>732  BARTLETT AVE</td>\n",
       "      <td>21218</td>\n",
       "      <td>Phone</td>\n",
       "      <td>CLOSED</td>\n",
       "      <td>02/01/2015 09:29:00 AM +0000</td>\n",
       "      <td>02/03/2015 09:09:00 PM +0000</td>\n",
       "      <td>02/02/2015 09:29:00 AM +0000</td>\n",
       "      <td>Cityworks SR Comments</td>\n",
       "      <td>UPDATED</td>\n",
       "      <td>NaN</td>\n",
       "      <td>NaN</td>\n",
       "    </tr>\n",
       "  </tbody>\n",
       "</table>\n",
       "</div>"
      ],
      "text/plain": [
       "   SRRecordID ServiceRequesNum                         SRType  \\\n",
       "0  1094344940      15-00072082       WW Water Leak (Exterior)   \n",
       "1  1094344982      15-00072083  BCLB-Liquor License Complaint   \n",
       "2  1094345013      15-00072084                WW Hydrant Open   \n",
       "3  1094345094      15-00072085        TRM-Snow/Icy Conditions   \n",
       "4  1094345124      15-00072086        TRM-Snow/Icy Conditions   \n",
       "\n",
       "                            Agency           Neighborhood       StreetAddress  \\\n",
       "0  Bureau of Water and Waste Water                 CANTON  1013 S CLINTON ST    \n",
       "1             Liquor License Board              GREEKTOWN    500 S LEHIGH ST    \n",
       "2  Bureau of Water and Waste Water               MILLHILL  2600  WILKENS AVE    \n",
       "3     Department of Transportation               MEDFIELD         4496  83  N   \n",
       "4     Department of Transportation  EAST BALTIMORE MIDWAY  732  BARTLETT AVE    \n",
       "\n",
       "  ZipCode MethodReceived  SRStatus                   CreatedDate  \\\n",
       "0   21224      Interface    CLOSED  02/01/2015 08:12:00 AM +0000   \n",
       "1   21224      Interface    CLOSED  02/01/2015 08:48:00 AM +0000   \n",
       "2   21223          Phone  HOLDLOCK  02/01/2015 09:13:00 AM +0000   \n",
       "3   21209          Phone    CLOSED  02/01/2015 09:24:00 AM +0000   \n",
       "4   21218          Phone    CLOSED  02/01/2015 09:29:00 AM +0000   \n",
       "\n",
       "                     StatusDate                       DueDate  \\\n",
       "0  02/01/2015 06:23:00 PM +0000  02/03/2015 08:12:00 AM +0000   \n",
       "1  02/18/2015 09:12:00 PM +0000  03/21/2015 07:48:00 AM +0000   \n",
       "2  02/01/2015 11:07:00 AM +0000  02/02/2015 09:13:00 AM +0000   \n",
       "3  02/04/2015 10:41:00 PM +0000  02/02/2015 09:24:00 AM +0000   \n",
       "4  02/03/2015 09:09:00 PM +0000  02/02/2015 09:29:00 AM +0000   \n",
       "\n",
       "            LastActivity  Outcome LastActivityDate GeoLocation  \n",
       "0  Cityworks SR Comments  UPDATED              NaN         NaN  \n",
       "1  Dispatch Investigator   Closed              NaN         NaN  \n",
       "2  Cityworks SR Comments  UPDATED              NaN         NaN  \n",
       "3  Cityworks SR Comments  UPDATED              NaN         NaN  \n",
       "4  Cityworks SR Comments  UPDATED              NaN         NaN  "
      ]
     },
     "execution_count": 9,
     "metadata": {},
     "output_type": "execute_result"
    }
   ],
   "source": [
    "df.head()"
   ]
  },
  {
   "cell_type": "code",
   "execution_count": 10,
   "metadata": {
    "collapsed": false
   },
   "outputs": [
    {
     "data": {
      "text/html": [
       "<div>\n",
       "<table border=\"1\" class=\"dataframe\">\n",
       "  <thead>\n",
       "    <tr style=\"text-align: right;\">\n",
       "      <th></th>\n",
       "      <th>SRRecordID</th>\n",
       "      <th>ServiceRequesNum</th>\n",
       "      <th>SRType</th>\n",
       "      <th>Agency</th>\n",
       "      <th>Neighborhood</th>\n",
       "      <th>StreetAddress</th>\n",
       "      <th>ZipCode</th>\n",
       "      <th>MethodReceived</th>\n",
       "      <th>SRStatus</th>\n",
       "      <th>CreatedDate</th>\n",
       "      <th>StatusDate</th>\n",
       "      <th>DueDate</th>\n",
       "      <th>LastActivity</th>\n",
       "      <th>Outcome</th>\n",
       "      <th>LastActivityDate</th>\n",
       "      <th>GeoLocation</th>\n",
       "    </tr>\n",
       "  </thead>\n",
       "  <tbody>\n",
       "    <tr>\n",
       "      <th>0</th>\n",
       "      <td>1094344940</td>\n",
       "      <td>15-00072082</td>\n",
       "      <td>WW Water Leak (Exterior)</td>\n",
       "      <td>Bureau of Water and Waste Water</td>\n",
       "      <td>CANTON</td>\n",
       "      <td>1013 S CLINTON ST</td>\n",
       "      <td>21224</td>\n",
       "      <td>Interface</td>\n",
       "      <td>CLOSED</td>\n",
       "      <td>02/01/2015 08:12:00 AM +0000</td>\n",
       "      <td>02/01/2015 06:23:00 PM +0000</td>\n",
       "      <td>02/03/2015 08:12:00 AM +0000</td>\n",
       "      <td>Cityworks SR Comments</td>\n",
       "      <td>UPDATED</td>\n",
       "      <td>NaN</td>\n",
       "      <td>NaN</td>\n",
       "    </tr>\n",
       "    <tr>\n",
       "      <th>1</th>\n",
       "      <td>1094344982</td>\n",
       "      <td>15-00072083</td>\n",
       "      <td>BCLB-Liquor License Complaint</td>\n",
       "      <td>Liquor License Board</td>\n",
       "      <td>GREEKTOWN</td>\n",
       "      <td>500 S LEHIGH ST</td>\n",
       "      <td>21224</td>\n",
       "      <td>Interface</td>\n",
       "      <td>CLOSED</td>\n",
       "      <td>02/01/2015 08:48:00 AM +0000</td>\n",
       "      <td>02/18/2015 09:12:00 PM +0000</td>\n",
       "      <td>03/21/2015 07:48:00 AM +0000</td>\n",
       "      <td>Dispatch Investigator</td>\n",
       "      <td>Closed</td>\n",
       "      <td>NaN</td>\n",
       "      <td>NaN</td>\n",
       "    </tr>\n",
       "  </tbody>\n",
       "</table>\n",
       "</div>"
      ],
      "text/plain": [
       "   SRRecordID ServiceRequesNum                         SRType  \\\n",
       "0  1094344940      15-00072082       WW Water Leak (Exterior)   \n",
       "1  1094344982      15-00072083  BCLB-Liquor License Complaint   \n",
       "\n",
       "                            Agency Neighborhood       StreetAddress ZipCode  \\\n",
       "0  Bureau of Water and Waste Water       CANTON  1013 S CLINTON ST    21224   \n",
       "1             Liquor License Board    GREEKTOWN    500 S LEHIGH ST    21224   \n",
       "\n",
       "  MethodReceived SRStatus                   CreatedDate  \\\n",
       "0      Interface   CLOSED  02/01/2015 08:12:00 AM +0000   \n",
       "1      Interface   CLOSED  02/01/2015 08:48:00 AM +0000   \n",
       "\n",
       "                     StatusDate                       DueDate  \\\n",
       "0  02/01/2015 06:23:00 PM +0000  02/03/2015 08:12:00 AM +0000   \n",
       "1  02/18/2015 09:12:00 PM +0000  03/21/2015 07:48:00 AM +0000   \n",
       "\n",
       "            LastActivity  Outcome LastActivityDate GeoLocation  \n",
       "0  Cityworks SR Comments  UPDATED              NaN         NaN  \n",
       "1  Dispatch Investigator   Closed              NaN         NaN  "
      ]
     },
     "execution_count": 10,
     "metadata": {},
     "output_type": "execute_result"
    }
   ],
   "source": [
    "df[:2"
   ]
  },
  {
   "cell_type": "code",
   "execution_count": 12,
   "metadata": {
    "collapsed": false,
    "scrolled": true
   },
   "outputs": [
    {
     "data": {
      "text/html": [
       "<div>\n",
       "<table border=\"1\" class=\"dataframe\">\n",
       "  <thead>\n",
       "    <tr style=\"text-align: right;\">\n",
       "      <th></th>\n",
       "      <th>SRType</th>\n",
       "    </tr>\n",
       "  </thead>\n",
       "  <tbody>\n",
       "    <tr>\n",
       "      <th>0</th>\n",
       "      <td>WW Water Leak (Exterior)</td>\n",
       "    </tr>\n",
       "    <tr>\n",
       "      <th>1</th>\n",
       "      <td>BCLB-Liquor License Complaint</td>\n",
       "    </tr>\n",
       "  </tbody>\n",
       "</table>\n",
       "</div>"
      ],
      "text/plain": [
       "                          SRType\n",
       "0       WW Water Leak (Exterior)\n",
       "1  BCLB-Liquor License Complaint"
      ]
     },
     "execution_count": 12,
     "metadata": {},
     "output_type": "execute_result"
    }
   ],
   "source": [
    "df.iloc[:2,2:3]"
   ]
  },
  {
   "cell_type": "code",
   "execution_count": 13,
   "metadata": {
    "collapsed": false
   },
   "outputs": [
    {
     "data": {
      "text/html": [
       "<div>\n",
       "<table border=\"1\" class=\"dataframe\">\n",
       "  <thead>\n",
       "    <tr style=\"text-align: right;\">\n",
       "      <th></th>\n",
       "      <th>ServiceRequesNum</th>\n",
       "      <th>SRType</th>\n",
       "    </tr>\n",
       "  </thead>\n",
       "  <tbody>\n",
       "    <tr>\n",
       "      <th>0</th>\n",
       "      <td>15-00072082</td>\n",
       "      <td>WW Water Leak (Exterior)</td>\n",
       "    </tr>\n",
       "    <tr>\n",
       "      <th>1</th>\n",
       "      <td>15-00072083</td>\n",
       "      <td>BCLB-Liquor License Complaint</td>\n",
       "    </tr>\n",
       "    <tr>\n",
       "      <th>2</th>\n",
       "      <td>15-00072084</td>\n",
       "      <td>WW Hydrant Open</td>\n",
       "    </tr>\n",
       "    <tr>\n",
       "      <th>3</th>\n",
       "      <td>15-00072085</td>\n",
       "      <td>TRM-Snow/Icy Conditions</td>\n",
       "    </tr>\n",
       "    <tr>\n",
       "      <th>4</th>\n",
       "      <td>15-00072086</td>\n",
       "      <td>TRM-Snow/Icy Conditions</td>\n",
       "    </tr>\n",
       "    <tr>\n",
       "      <th>5</th>\n",
       "      <td>15-00072087</td>\n",
       "      <td>TRM-Snow/Icy Conditions</td>\n",
       "    </tr>\n",
       "  </tbody>\n",
       "</table>\n",
       "</div>"
      ],
      "text/plain": [
       "  ServiceRequesNum                         SRType\n",
       "0      15-00072082       WW Water Leak (Exterior)\n",
       "1      15-00072083  BCLB-Liquor License Complaint\n",
       "2      15-00072084                WW Hydrant Open\n",
       "3      15-00072085        TRM-Snow/Icy Conditions\n",
       "4      15-00072086        TRM-Snow/Icy Conditions\n",
       "5      15-00072087        TRM-Snow/Icy Conditions"
      ]
     },
     "execution_count": 13,
     "metadata": {},
     "output_type": "execute_result"
    }
   ],
   "source": [
    "df.loc[:5,['ServiceRequesNum','SRType']]"
   ]
  },
  {
   "cell_type": "code",
   "execution_count": null,
   "metadata": {
    "collapsed": false
   },
   "outputs": [],
   "source": [
    "# df.ZipCode.fillna(0, inplace=True)"
   ]
  },
  {
   "cell_type": "code",
   "execution_count": 14,
   "metadata": {
    "collapsed": false
   },
   "outputs": [],
   "source": [
    "df.ZipCode = df.ZipCode.map(lambda x : str(x)[0:5])\n",
    "#Truncating ZipCode down to first 5 digits"
   ]
  },
  {
   "cell_type": "code",
   "execution_count": 15,
   "metadata": {
    "collapsed": false
   },
   "outputs": [
    {
     "data": {
      "text/plain": [
       "dtype('O')"
      ]
     },
     "execution_count": 15,
     "metadata": {},
     "output_type": "execute_result"
    }
   ],
   "source": [
    "df.ZipCode.dtype"
   ]
  },
  {
   "cell_type": "code",
   "execution_count": 16,
   "metadata": {
    "collapsed": false
   },
   "outputs": [
    {
     "data": {
      "text/plain": [
       "178"
      ]
     },
     "execution_count": 16,
     "metadata": {},
     "output_type": "execute_result"
    }
   ],
   "source": [
    "len(df.ZipCode.unique())"
   ]
  },
  {
   "cell_type": "code",
   "execution_count": 19,
   "metadata": {
    "collapsed": false
   },
   "outputs": [
    {
     "data": {
      "text/plain": [
       "pandas.core.groupby.DataFrameGroupBy"
      ]
     },
     "execution_count": 19,
     "metadata": {},
     "output_type": "execute_result"
    }
   ],
   "source": [
    "gb_zip = df.groupby('ZipCode')\n",
    "type(gb_zip)\n",
    "#create groupby object"
   ]
  },
  {
   "cell_type": "code",
   "execution_count": 20,
   "metadata": {
    "collapsed": false
   },
   "outputs": [],
   "source": [
    "total_complaints_by_zipcode = dict(df.ZipCode.value_counts())"
   ]
  },
  {
   "cell_type": "code",
   "execution_count": 21,
   "metadata": {
    "collapsed": false
   },
   "outputs": [
    {
     "data": {
      "text/plain": [
       "Bureau of Solid Waste                       795603\n",
       "Department of Transportation                325752\n",
       "HCD-Department of Housing                   213487\n",
       "Bureau of Water and Waste Water             130849\n",
       "Mayors Office of Information Technology      57275\n",
       "Health Department                            53746\n",
       "Department of Recreation and Parks           31380\n",
       "Fire Department                              21659\n",
       "Finance-Revenue Collections                  16935\n",
       "Parking Authority of Baltimore City Inc.      3525\n",
       "Liquor License Board                          2186\n",
       "Mayors Office                                 1463\n",
       "Department of Finance                          978\n",
       "Department of General Services                 786\n",
       "Department of Public Works                     284\n",
       "Baltimore Police Department                    224\n",
       "Name: Agency, dtype: int64"
      ]
     },
     "execution_count": 21,
     "metadata": {},
     "output_type": "execute_result"
    }
   ],
   "source": [
    "df.Agency.value_counts()"
   ]
  },
  {
   "cell_type": "code",
   "execution_count": 24,
   "metadata": {
    "collapsed": false
   },
   "outputs": [
    {
     "data": {
      "text/plain": [
       "{'21206',\n",
       " '21213',\n",
       " '21215',\n",
       " '21216',\n",
       " '21217',\n",
       " '21218',\n",
       " '21223',\n",
       " '21224',\n",
       " '21229',\n",
       " '21230'}"
      ]
     },
     "execution_count": 24,
     "metadata": {},
     "output_type": "execute_result"
    }
   ],
   "source": [
    "top_10_zips = set(df.ZipCode.value_counts()[:10].index)\n",
    "top_10_zips"
   ]
  },
  {
   "cell_type": "code",
   "execution_count": 30,
   "metadata": {
    "collapsed": false
   },
   "outputs": [],
   "source": [
    "df_top10 =df[df.ZipCode.isin(top_10_zips)]"
   ]
  },
  {
   "cell_type": "code",
   "execution_count": 31,
   "metadata": {
    "collapsed": false
   },
   "outputs": [
    {
     "data": {
      "text/plain": [
       "0.6812828722736881"
      ]
     },
     "execution_count": 31,
     "metadata": {},
     "output_type": "execute_result"
    }
   ],
   "source": [
    "df_top10.shape[0] / float(df.shape[0])\n",
    "#top 10 zip codes contain 68 percent of records"
   ]
  },
  {
   "cell_type": "code",
   "execution_count": 36,
   "metadata": {
    "collapsed": false
   },
   "outputs": [
    {
     "ename": "TypeError",
     "evalue": "unhashable type",
     "output_type": "error",
     "traceback": [
      "\u001b[0;31m---------------------------------------------------------------------------\u001b[0m",
      "\u001b[0;31mTypeError\u001b[0m                                 Traceback (most recent call last)",
      "\u001b[0;32m<ipython-input-36-7186d7977353>\u001b[0m in \u001b[0;36m<module>\u001b[0;34m()\u001b[0m\n\u001b[1;32m      1\u001b[0m \u001b[0mgb1\u001b[0m \u001b[1;33m=\u001b[0m \u001b[0mdf_top10\u001b[0m\u001b[1;33m.\u001b[0m\u001b[0mgroupby\u001b[0m\u001b[1;33m(\u001b[0m\u001b[1;34m'ZipCode'\u001b[0m\u001b[1;33m)\u001b[0m\u001b[1;33m\u001b[0m\u001b[0m\n\u001b[0;32m----> 2\u001b[0;31m \u001b[0mgb1\u001b[0m\u001b[1;33m.\u001b[0m\u001b[0mcount\u001b[0m\u001b[1;33m(\u001b[0m\u001b[1;33m)\u001b[0m\u001b[1;33m[\u001b[0m\u001b[1;33m:\u001b[0m\u001b[1;33m,\u001b[0m\u001b[1;33m:\u001b[0m\u001b[1;36m2\u001b[0m\u001b[1;33m]\u001b[0m\u001b[1;33m\u001b[0m\u001b[0m\n\u001b[0m",
      "\u001b[0;32mC:\\Users\\james\\Anaconda2\\lib\\site-packages\\pandas\\core\\frame.pyc\u001b[0m in \u001b[0;36m__getitem__\u001b[0;34m(self, key)\u001b[0m\n\u001b[1;32m   1995\u001b[0m             \u001b[1;32mreturn\u001b[0m \u001b[0mself\u001b[0m\u001b[1;33m.\u001b[0m\u001b[0m_getitem_multilevel\u001b[0m\u001b[1;33m(\u001b[0m\u001b[0mkey\u001b[0m\u001b[1;33m)\u001b[0m\u001b[1;33m\u001b[0m\u001b[0m\n\u001b[1;32m   1996\u001b[0m         \u001b[1;32melse\u001b[0m\u001b[1;33m:\u001b[0m\u001b[1;33m\u001b[0m\u001b[0m\n\u001b[0;32m-> 1997\u001b[0;31m             \u001b[1;32mreturn\u001b[0m \u001b[0mself\u001b[0m\u001b[1;33m.\u001b[0m\u001b[0m_getitem_column\u001b[0m\u001b[1;33m(\u001b[0m\u001b[0mkey\u001b[0m\u001b[1;33m)\u001b[0m\u001b[1;33m\u001b[0m\u001b[0m\n\u001b[0m\u001b[1;32m   1998\u001b[0m \u001b[1;33m\u001b[0m\u001b[0m\n\u001b[1;32m   1999\u001b[0m     \u001b[1;32mdef\u001b[0m \u001b[0m_getitem_column\u001b[0m\u001b[1;33m(\u001b[0m\u001b[0mself\u001b[0m\u001b[1;33m,\u001b[0m \u001b[0mkey\u001b[0m\u001b[1;33m)\u001b[0m\u001b[1;33m:\u001b[0m\u001b[1;33m\u001b[0m\u001b[0m\n",
      "\u001b[0;32mC:\\Users\\james\\Anaconda2\\lib\\site-packages\\pandas\\core\\frame.pyc\u001b[0m in \u001b[0;36m_getitem_column\u001b[0;34m(self, key)\u001b[0m\n\u001b[1;32m   2002\u001b[0m         \u001b[1;31m# get column\u001b[0m\u001b[1;33m\u001b[0m\u001b[1;33m\u001b[0m\u001b[0m\n\u001b[1;32m   2003\u001b[0m         \u001b[1;32mif\u001b[0m \u001b[0mself\u001b[0m\u001b[1;33m.\u001b[0m\u001b[0mcolumns\u001b[0m\u001b[1;33m.\u001b[0m\u001b[0mis_unique\u001b[0m\u001b[1;33m:\u001b[0m\u001b[1;33m\u001b[0m\u001b[0m\n\u001b[0;32m-> 2004\u001b[0;31m             \u001b[1;32mreturn\u001b[0m \u001b[0mself\u001b[0m\u001b[1;33m.\u001b[0m\u001b[0m_get_item_cache\u001b[0m\u001b[1;33m(\u001b[0m\u001b[0mkey\u001b[0m\u001b[1;33m)\u001b[0m\u001b[1;33m\u001b[0m\u001b[0m\n\u001b[0m\u001b[1;32m   2005\u001b[0m \u001b[1;33m\u001b[0m\u001b[0m\n\u001b[1;32m   2006\u001b[0m         \u001b[1;31m# duplicate columns & possible reduce dimensionality\u001b[0m\u001b[1;33m\u001b[0m\u001b[1;33m\u001b[0m\u001b[0m\n",
      "\u001b[0;32mC:\\Users\\james\\Anaconda2\\lib\\site-packages\\pandas\\core\\generic.pyc\u001b[0m in \u001b[0;36m_get_item_cache\u001b[0;34m(self, item)\u001b[0m\n\u001b[1;32m   1346\u001b[0m         \u001b[1;34m\"\"\"Return the cached item, item represents a label indexer.\"\"\"\u001b[0m\u001b[1;33m\u001b[0m\u001b[0m\n\u001b[1;32m   1347\u001b[0m         \u001b[0mcache\u001b[0m \u001b[1;33m=\u001b[0m \u001b[0mself\u001b[0m\u001b[1;33m.\u001b[0m\u001b[0m_item_cache\u001b[0m\u001b[1;33m\u001b[0m\u001b[0m\n\u001b[0;32m-> 1348\u001b[0;31m         \u001b[0mres\u001b[0m \u001b[1;33m=\u001b[0m \u001b[0mcache\u001b[0m\u001b[1;33m.\u001b[0m\u001b[0mget\u001b[0m\u001b[1;33m(\u001b[0m\u001b[0mitem\u001b[0m\u001b[1;33m)\u001b[0m\u001b[1;33m\u001b[0m\u001b[0m\n\u001b[0m\u001b[1;32m   1349\u001b[0m         \u001b[1;32mif\u001b[0m \u001b[0mres\u001b[0m \u001b[1;32mis\u001b[0m \u001b[0mNone\u001b[0m\u001b[1;33m:\u001b[0m\u001b[1;33m\u001b[0m\u001b[0m\n\u001b[1;32m   1350\u001b[0m             \u001b[0mvalues\u001b[0m \u001b[1;33m=\u001b[0m \u001b[0mself\u001b[0m\u001b[1;33m.\u001b[0m\u001b[0m_data\u001b[0m\u001b[1;33m.\u001b[0m\u001b[0mget\u001b[0m\u001b[1;33m(\u001b[0m\u001b[0mitem\u001b[0m\u001b[1;33m)\u001b[0m\u001b[1;33m\u001b[0m\u001b[0m\n",
      "\u001b[0;31mTypeError\u001b[0m: unhashable type"
     ]
    }
   ],
   "source": [
    "gb1 = df_top10.groupby('ZipCode')\n",
    "gb1.count()"
   ]
  },
  {
   "cell_type": "code",
   "execution_count": null,
   "metadata": {
    "collapsed": false
   },
   "outputs": [],
   "source": [
    "print df.ZipCode.unique()\n",
    "len(df.ZipCode.unique())"
   ]
  },
  {
   "cell_type": "code",
   "execution_count": null,
   "metadata": {
    "collapsed": false
   },
   "outputs": [],
   "source": [
    "df.Agency.unique()"
   ]
  },
  {
   "cell_type": "code",
   "execution_count": null,
   "metadata": {
    "collapsed": false,
    "scrolled": true
   },
   "outputs": [],
   "source": [
    "df_top20.shape"
   ]
  },
  {
   "cell_type": "code",
   "execution_count": 47,
   "metadata": {
    "collapsed": false
   },
   "outputs": [
    {
     "data": {
      "text/html": [
       "<div>\n",
       "<table border=\"1\" class=\"dataframe\">\n",
       "  <thead>\n",
       "    <tr style=\"text-align: right;\">\n",
       "      <th>ZipCode</th>\n",
       "      <th>21206</th>\n",
       "      <th>21213</th>\n",
       "      <th>21215</th>\n",
       "      <th>21216</th>\n",
       "      <th>21217</th>\n",
       "      <th>21218</th>\n",
       "      <th>21223</th>\n",
       "      <th>21224</th>\n",
       "      <th>21229</th>\n",
       "      <th>21230</th>\n",
       "    </tr>\n",
       "    <tr>\n",
       "      <th>Agency</th>\n",
       "      <th></th>\n",
       "      <th></th>\n",
       "      <th></th>\n",
       "      <th></th>\n",
       "      <th></th>\n",
       "      <th></th>\n",
       "      <th></th>\n",
       "      <th></th>\n",
       "      <th></th>\n",
       "      <th></th>\n",
       "    </tr>\n",
       "  </thead>\n",
       "  <tbody>\n",
       "    <tr>\n",
       "      <th>Baltimore Police Department</th>\n",
       "      <td>0.000070</td>\n",
       "      <td>0.000038</td>\n",
       "      <td>0.000079</td>\n",
       "      <td>0.000061</td>\n",
       "      <td>0.000094</td>\n",
       "      <td>0.000183</td>\n",
       "      <td>0.000155</td>\n",
       "      <td>0.000125</td>\n",
       "      <td>0.000088</td>\n",
       "      <td>0.000158</td>\n",
       "    </tr>\n",
       "    <tr>\n",
       "      <th>Bureau of Solid Waste</th>\n",
       "      <td>0.435594</td>\n",
       "      <td>0.607361</td>\n",
       "      <td>0.470091</td>\n",
       "      <td>0.498132</td>\n",
       "      <td>0.608584</td>\n",
       "      <td>0.555129</td>\n",
       "      <td>0.541909</td>\n",
       "      <td>0.491897</td>\n",
       "      <td>0.448303</td>\n",
       "      <td>0.395470</td>\n",
       "    </tr>\n",
       "    <tr>\n",
       "      <th>Bureau of Water and Waste Water</th>\n",
       "      <td>0.097264</td>\n",
       "      <td>0.069357</td>\n",
       "      <td>0.077030</td>\n",
       "      <td>0.074417</td>\n",
       "      <td>0.057589</td>\n",
       "      <td>0.082257</td>\n",
       "      <td>0.071127</td>\n",
       "      <td>0.069831</td>\n",
       "      <td>0.084679</td>\n",
       "      <td>0.074739</td>\n",
       "    </tr>\n",
       "    <tr>\n",
       "      <th>Department of Finance</th>\n",
       "      <td>0.000266</td>\n",
       "      <td>0.000601</td>\n",
       "      <td>0.000497</td>\n",
       "      <td>0.000287</td>\n",
       "      <td>0.000517</td>\n",
       "      <td>0.000408</td>\n",
       "      <td>0.000520</td>\n",
       "      <td>0.000448</td>\n",
       "      <td>0.000287</td>\n",
       "      <td>0.000643</td>\n",
       "    </tr>\n",
       "    <tr>\n",
       "      <th>Department of General Services</th>\n",
       "      <td>0.000350</td>\n",
       "      <td>0.000335</td>\n",
       "      <td>0.000489</td>\n",
       "      <td>0.000246</td>\n",
       "      <td>0.000243</td>\n",
       "      <td>0.000352</td>\n",
       "      <td>0.000374</td>\n",
       "      <td>0.000661</td>\n",
       "      <td>0.000364</td>\n",
       "      <td>0.000612</td>\n",
       "    </tr>\n",
       "    <tr>\n",
       "      <th>Department of Public Works</th>\n",
       "      <td>0.000112</td>\n",
       "      <td>0.000137</td>\n",
       "      <td>0.000047</td>\n",
       "      <td>0.000154</td>\n",
       "      <td>0.000204</td>\n",
       "      <td>0.000063</td>\n",
       "      <td>0.000283</td>\n",
       "      <td>0.000242</td>\n",
       "      <td>0.000044</td>\n",
       "      <td>0.000485</td>\n",
       "    </tr>\n",
       "    <tr>\n",
       "      <th>Department of Recreation and Parks</th>\n",
       "      <td>0.013785</td>\n",
       "      <td>0.011675</td>\n",
       "      <td>0.018783</td>\n",
       "      <td>0.018722</td>\n",
       "      <td>0.019975</td>\n",
       "      <td>0.019860</td>\n",
       "      <td>0.011680</td>\n",
       "      <td>0.017637</td>\n",
       "      <td>0.020544</td>\n",
       "      <td>0.024125</td>\n",
       "    </tr>\n",
       "    <tr>\n",
       "      <th>Department of Transportation</th>\n",
       "      <td>0.227127</td>\n",
       "      <td>0.125517</td>\n",
       "      <td>0.187108</td>\n",
       "      <td>0.155374</td>\n",
       "      <td>0.115185</td>\n",
       "      <td>0.161190</td>\n",
       "      <td>0.127064</td>\n",
       "      <td>0.213030</td>\n",
       "      <td>0.200009</td>\n",
       "      <td>0.265138</td>\n",
       "    </tr>\n",
       "    <tr>\n",
       "      <th>Finance-Revenue Collections</th>\n",
       "      <td>0.004861</td>\n",
       "      <td>0.003874</td>\n",
       "      <td>0.004834</td>\n",
       "      <td>0.004074</td>\n",
       "      <td>0.003543</td>\n",
       "      <td>0.003233</td>\n",
       "      <td>0.003665</td>\n",
       "      <td>0.003222</td>\n",
       "      <td>0.004563</td>\n",
       "      <td>0.003903</td>\n",
       "    </tr>\n",
       "    <tr>\n",
       "      <th>Fire Department</th>\n",
       "      <td>0.017063</td>\n",
       "      <td>0.012139</td>\n",
       "      <td>0.019295</td>\n",
       "      <td>0.014863</td>\n",
       "      <td>0.008498</td>\n",
       "      <td>0.010599</td>\n",
       "      <td>0.011105</td>\n",
       "      <td>0.010246</td>\n",
       "      <td>0.014725</td>\n",
       "      <td>0.013745</td>\n",
       "    </tr>\n",
       "    <tr>\n",
       "      <th>HCD-Department of Housing</th>\n",
       "      <td>0.113136</td>\n",
       "      <td>0.123705</td>\n",
       "      <td>0.145915</td>\n",
       "      <td>0.161895</td>\n",
       "      <td>0.139581</td>\n",
       "      <td>0.109117</td>\n",
       "      <td>0.182390</td>\n",
       "      <td>0.125356</td>\n",
       "      <td>0.142454</td>\n",
       "      <td>0.123592</td>\n",
       "    </tr>\n",
       "    <tr>\n",
       "      <th>Health Department</th>\n",
       "      <td>0.047574</td>\n",
       "      <td>0.024788</td>\n",
       "      <td>0.038472</td>\n",
       "      <td>0.036308</td>\n",
       "      <td>0.022672</td>\n",
       "      <td>0.025205</td>\n",
       "      <td>0.027034</td>\n",
       "      <td>0.029440</td>\n",
       "      <td>0.040218</td>\n",
       "      <td>0.032797</td>\n",
       "    </tr>\n",
       "    <tr>\n",
       "      <th>Liquor License Board</th>\n",
       "      <td>0.001135</td>\n",
       "      <td>0.000190</td>\n",
       "      <td>0.000205</td>\n",
       "      <td>0.000092</td>\n",
       "      <td>0.000196</td>\n",
       "      <td>0.000500</td>\n",
       "      <td>0.000994</td>\n",
       "      <td>0.005820</td>\n",
       "      <td>0.000121</td>\n",
       "      <td>0.004831</td>\n",
       "    </tr>\n",
       "    <tr>\n",
       "      <th>Mayors Office</th>\n",
       "      <td>0.000126</td>\n",
       "      <td>0.000358</td>\n",
       "      <td>0.000757</td>\n",
       "      <td>0.000747</td>\n",
       "      <td>0.001685</td>\n",
       "      <td>0.000951</td>\n",
       "      <td>0.000556</td>\n",
       "      <td>0.000382</td>\n",
       "      <td>0.001785</td>\n",
       "      <td>0.000411</td>\n",
       "    </tr>\n",
       "    <tr>\n",
       "      <th>Mayors Office of Information Technology</th>\n",
       "      <td>0.040500</td>\n",
       "      <td>0.019088</td>\n",
       "      <td>0.035412</td>\n",
       "      <td>0.033636</td>\n",
       "      <td>0.020869</td>\n",
       "      <td>0.029283</td>\n",
       "      <td>0.020615</td>\n",
       "      <td>0.030379</td>\n",
       "      <td>0.040703</td>\n",
       "      <td>0.056047</td>\n",
       "    </tr>\n",
       "    <tr>\n",
       "      <th>Parking Authority of Baltimore City Inc.</th>\n",
       "      <td>0.001037</td>\n",
       "      <td>0.000837</td>\n",
       "      <td>0.000986</td>\n",
       "      <td>0.000993</td>\n",
       "      <td>0.000564</td>\n",
       "      <td>0.001669</td>\n",
       "      <td>0.000529</td>\n",
       "      <td>0.001284</td>\n",
       "      <td>0.001113</td>\n",
       "      <td>0.003302</td>\n",
       "    </tr>\n",
       "  </tbody>\n",
       "</table>\n",
       "</div>"
      ],
      "text/plain": [
       "ZipCode                                      21206     21213     21215  \\\n",
       "Agency                                                                   \n",
       "Baltimore Police Department               0.000070  0.000038  0.000079   \n",
       "Bureau of Solid Waste                     0.435594  0.607361  0.470091   \n",
       "Bureau of Water and Waste Water           0.097264  0.069357  0.077030   \n",
       "Department of Finance                     0.000266  0.000601  0.000497   \n",
       "Department of General Services            0.000350  0.000335  0.000489   \n",
       "Department of Public Works                0.000112  0.000137  0.000047   \n",
       "Department of Recreation and Parks        0.013785  0.011675  0.018783   \n",
       "Department of Transportation              0.227127  0.125517  0.187108   \n",
       "Finance-Revenue Collections               0.004861  0.003874  0.004834   \n",
       "Fire Department                           0.017063  0.012139  0.019295   \n",
       "HCD-Department of Housing                 0.113136  0.123705  0.145915   \n",
       "Health Department                         0.047574  0.024788  0.038472   \n",
       "Liquor License Board                      0.001135  0.000190  0.000205   \n",
       "Mayors Office                             0.000126  0.000358  0.000757   \n",
       "Mayors Office of Information Technology   0.040500  0.019088  0.035412   \n",
       "Parking Authority of Baltimore City Inc.  0.001037  0.000837  0.000986   \n",
       "\n",
       "ZipCode                                      21216     21217     21218  \\\n",
       "Agency                                                                   \n",
       "Baltimore Police Department               0.000061  0.000094  0.000183   \n",
       "Bureau of Solid Waste                     0.498132  0.608584  0.555129   \n",
       "Bureau of Water and Waste Water           0.074417  0.057589  0.082257   \n",
       "Department of Finance                     0.000287  0.000517  0.000408   \n",
       "Department of General Services            0.000246  0.000243  0.000352   \n",
       "Department of Public Works                0.000154  0.000204  0.000063   \n",
       "Department of Recreation and Parks        0.018722  0.019975  0.019860   \n",
       "Department of Transportation              0.155374  0.115185  0.161190   \n",
       "Finance-Revenue Collections               0.004074  0.003543  0.003233   \n",
       "Fire Department                           0.014863  0.008498  0.010599   \n",
       "HCD-Department of Housing                 0.161895  0.139581  0.109117   \n",
       "Health Department                         0.036308  0.022672  0.025205   \n",
       "Liquor License Board                      0.000092  0.000196  0.000500   \n",
       "Mayors Office                             0.000747  0.001685  0.000951   \n",
       "Mayors Office of Information Technology   0.033636  0.020869  0.029283   \n",
       "Parking Authority of Baltimore City Inc.  0.000993  0.000564  0.001669   \n",
       "\n",
       "ZipCode                                      21223     21224     21229  \\\n",
       "Agency                                                                   \n",
       "Baltimore Police Department               0.000155  0.000125  0.000088   \n",
       "Bureau of Solid Waste                     0.541909  0.491897  0.448303   \n",
       "Bureau of Water and Waste Water           0.071127  0.069831  0.084679   \n",
       "Department of Finance                     0.000520  0.000448  0.000287   \n",
       "Department of General Services            0.000374  0.000661  0.000364   \n",
       "Department of Public Works                0.000283  0.000242  0.000044   \n",
       "Department of Recreation and Parks        0.011680  0.017637  0.020544   \n",
       "Department of Transportation              0.127064  0.213030  0.200009   \n",
       "Finance-Revenue Collections               0.003665  0.003222  0.004563   \n",
       "Fire Department                           0.011105  0.010246  0.014725   \n",
       "HCD-Department of Housing                 0.182390  0.125356  0.142454   \n",
       "Health Department                         0.027034  0.029440  0.040218   \n",
       "Liquor License Board                      0.000994  0.005820  0.000121   \n",
       "Mayors Office                             0.000556  0.000382  0.001785   \n",
       "Mayors Office of Information Technology   0.020615  0.030379  0.040703   \n",
       "Parking Authority of Baltimore City Inc.  0.000529  0.001284  0.001113   \n",
       "\n",
       "ZipCode                                      21230  \n",
       "Agency                                              \n",
       "Baltimore Police Department               0.000158  \n",
       "Bureau of Solid Waste                     0.395470  \n",
       "Bureau of Water and Waste Water           0.074739  \n",
       "Department of Finance                     0.000643  \n",
       "Department of General Services            0.000612  \n",
       "Department of Public Works                0.000485  \n",
       "Department of Recreation and Parks        0.024125  \n",
       "Department of Transportation              0.265138  \n",
       "Finance-Revenue Collections               0.003903  \n",
       "Fire Department                           0.013745  \n",
       "HCD-Department of Housing                 0.123592  \n",
       "Health Department                         0.032797  \n",
       "Liquor License Board                      0.004831  \n",
       "Mayors Office                             0.000411  \n",
       "Mayors Office of Information Technology   0.056047  \n",
       "Parking Authority of Baltimore City Inc.  0.003302  "
      ]
     },
     "execution_count": 47,
     "metadata": {},
     "output_type": "execute_result"
    }
   ],
   "source": [
    "top_10_by_agency = pd.crosstab(df_top10.Agency, df_top10.ZipCode)\n",
    "top_10_by_agency.apply(lambda r: r/r.sum(), axis=0)"
   ]
  },
  {
   "cell_type": "code",
   "execution_count": 52,
   "metadata": {
    "collapsed": false
   },
   "outputs": [
    {
     "data": {
      "text/plain": [
       "0.0843937575030012"
      ]
     },
     "execution_count": 52,
     "metadata": {},
     "output_type": "execute_result"
    }
   ],
   "source": [
    "(40/52.)*(39/51.)*(38/50.)*(37/49.)*(12/48.)"
   ]
  },
  {
   "cell_type": "code",
   "execution_count": 53,
   "metadata": {
    "collapsed": true
   },
   "outputs": [],
   "source": [
    "def bayes(pBgivA, pA, pBgivnotA):\n",
    "    return pBgivA * pA /((pBgivA*pA) + (pBgivnotA * (1-pA)))"
   ]
  },
  {
   "cell_type": "code",
   "execution_count": 55,
   "metadata": {
    "collapsed": false
   },
   "outputs": [
    {
     "data": {
      "text/plain": [
       "0.11338372610048912"
      ]
     },
     "execution_count": 55,
     "metadata": {},
     "output_type": "execute_result"
    }
   ],
   "source": [
    "bayes(.85,.003,.02)"
   ]
  },
  {
   "cell_type": "code",
   "execution_count": null,
   "metadata": {
    "collapsed": true
   },
   "outputs": [],
   "source": []
  }
 ],
 "metadata": {
  "anaconda-cloud": {},
  "kernelspec": {
   "display_name": "Python [conda root]",
   "language": "python",
   "name": "conda-root-py"
  },
  "language_info": {
   "codemirror_mode": {
    "name": "ipython",
    "version": 2
   },
   "file_extension": ".py",
   "mimetype": "text/x-python",
   "name": "python",
   "nbconvert_exporter": "python",
   "pygments_lexer": "ipython2",
   "version": "2.7.12"
  }
 },
 "nbformat": 4,
 "nbformat_minor": 1
}
